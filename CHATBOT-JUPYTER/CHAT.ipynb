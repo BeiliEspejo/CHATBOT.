{
 "cells": [
  {
   "cell_type": "code",
   "execution_count": 16,
   "metadata": {},
   "outputs": [],
   "source": [
    "import os\n",
    "from langchain_openai import ChatOpenAI\n",
    "from langchain.chains import RetrievalQA\n",
    "from langchain.vectorstores import FAISS\n",
    "from langchain_openai import OpenAIEmbeddings\n",
    "from langchain.text_splitter import CharacterTextSplitter\n"
   ]
  },
  {
   "cell_type": "code",
   "execution_count": null,
   "metadata": {},
   "outputs": [],
   "source": [
    "# 1. Configurar la API Key de OpenAI\n",
    "os.environ[\"OPENAI_API_KEY\"] = \"Aqui API KEY\"  # Reemplázala manualmente\n"
   ]
  },
  {
   "cell_type": "code",
   "execution_count": 18,
   "metadata": {},
   "outputs": [],
   "source": [
    "# 2. Cargar el documento de la circular\n",
    "circular_path = \"texto_circular.txt\"\n",
    "try:\n",
    "    with open(circular_path, \"r\", encoding=\"utf-8\") as file:\n",
    "        texto = file.read()\n",
    "except FileNotFoundError:\n",
    "    print(f\"Error: No se encontró el archivo {circular_path}\")\n",
    "    exit()"
   ]
  },
  {
   "cell_type": "code",
   "execution_count": 19,
   "metadata": {},
   "outputs": [],
   "source": [
    "# 3. Procesar el documento para convertirlo en fragmentos\n",
    "text_splitter = CharacterTextSplitter(chunk_size=1040, chunk_overlap=50)\n",
    "splits = text_splitter.split_text(texto)\n"
   ]
  },
  {
   "cell_type": "code",
   "execution_count": 20,
   "metadata": {},
   "outputs": [],
   "source": [
    "# 4. Crear una base de datos vectorial para búsqueda eficiente\n",
    "vectorstore = FAISS.from_texts(splits, OpenAIEmbeddings())"
   ]
  },
  {
   "cell_type": "code",
   "execution_count": 21,
   "metadata": {},
   "outputs": [],
   "source": [
    "# 5. Implementar la funcionalidad de RAG con LangChain\n",
    "qa = RetrievalQA.from_chain_type(\n",
    "    llm=ChatOpenAI(model_name=\"gpt-4\"),\n",
    "    chain_type=\"stuff\",\n",
    "    retriever=vectorstore.as_retriever()\n",
    ")\n"
   ]
  },
  {
   "cell_type": "code",
   "execution_count": 22,
   "metadata": {},
   "outputs": [],
   "source": [
    "# 6. Función para consultar el chatbot\n",
    "def preguntar_chatbot(pregunta):\n",
    "    respuesta = qa.run(pregunta)\n",
    "    return respuesta\n"
   ]
  },
  {
   "cell_type": "code",
   "execution_count": 23,
   "metadata": {},
   "outputs": [],
   "source": [
    "\n",
    "# 7. Hacer varias preguntas clave\n",
    "def preguntas_clave():\n",
    "    preguntas = [\n",
    "        \"¿Quiénes son los demandantes?\",\n",
    "        \"¿Quiénes son los demandados?\",\n",
    "        \"¿Quién es el juez encargado del caso?\",\n",
    "        \"¿Cuál es el número de expediente?\",\n",
    "        \"¿Cuál es el monto a retener?\"\n",
    "    ]\n",
    "    for pregunta in preguntas:\n",
    "        print(f\"Pregunta: {pregunta}\")\n",
    "        print(f\"Respuesta: {preguntar_chatbot(pregunta)}\\n\")"
   ]
  },
  {
   "cell_type": "code",
   "execution_count": 24,
   "metadata": {},
   "outputs": [],
   "source": [
    "\n",
    "# 8. Hacer preguntas en tiempo real\n",
    "def modo_interactivo():\n",
    "    while True:\n",
    "        pregunta = input(\"Haz una pregunta (o escribe 'salir' para terminar): \")\n",
    "        if pregunta.lower() == \"salir\":\n",
    "            break\n",
    "        print(\"Respuesta:\", preguntar_chatbot(pregunta))"
   ]
  },
  {
   "cell_type": "code",
   "execution_count": 25,
   "metadata": {},
   "outputs": [
    {
     "name": "stdout",
     "output_type": "stream",
     "text": [
      "Preguntas clave:\n",
      "Pregunta: ¿Quiénes son los demandantes?\n",
      "Respuesta: El demandante es el Banco del Pueblo S.A.\n",
      "\n",
      "Pregunta: ¿Quiénes son los demandados?\n",
      "Respuesta: El demandado en este contexto es Rafael Perez Blanco.\n",
      "\n",
      "Pregunta: ¿Quién es el juez encargado del caso?\n",
      "Respuesta: El juez encargado del caso es Fausto Calle M.\n",
      "\n",
      "Pregunta: ¿Cuál es el número de expediente?\n",
      "Respuesta: El número de expediente es 196/24.\n",
      "\n",
      "Pregunta: ¿Cuál es el monto a retener?\n",
      "Respuesta: El monto a retener es de Bs.- 15.010,00 (son quince mil diez 00/100 bolivianos).\n",
      "\n",
      "\n",
      "Modo interactivo activado. Puedes hacer preguntas en tiempo real.\n"
     ]
    },
    {
     "name": "stdout",
     "output_type": "stream",
     "text": [
      "Haz una pregunta (o escribe 'salir' para terminar):  la fecha\n"
     ]
    },
    {
     "name": "stdout",
     "output_type": "stream",
     "text": [
      "Respuesta: La fecha es el 15 de enero de 2025.\n"
     ]
    },
    {
     "name": "stdout",
     "output_type": "stream",
     "text": [
      "Haz una pregunta (o escribe 'salir' para terminar):  sentencia inicial\n"
     ]
    },
    {
     "name": "stdout",
     "output_type": "stream",
     "text": [
      "Respuesta: La sentencia inicial mencionada en el texto es la Sentencia Nro. 756/2024 de fecha 20 de septiembre de 2024. Esta sentencia parece estar relacionada con la retención de fondos a Rafael Perez Blanco por parte del Banco del Pueblo S.A., con un monto adeudado de Bs.- 15.010,00. \n",
      "Es importante aclarar que cualquier interpretación podría requerir una traducción precisa y profesional, especialmente cuando se trata de términos legales y documentos oficiales.\n"
     ]
    },
    {
     "name": "stdout",
     "output_type": "stream",
     "text": [
      "Haz una pregunta (o escribe 'salir' para terminar):  salir\n"
     ]
    }
   ],
   "source": [
    "# Ejecución principal\n",
    "if __name__ == \"__main__\":\n",
    "    print(\"Preguntas clave:\")\n",
    "    preguntas_clave()\n",
    "    print(\"\\nModo interactivo activado. Puedes hacer preguntas en tiempo real.\")\n",
    "    modo_interactivo()"
   ]
  },
  {
   "cell_type": "code",
   "execution_count": null,
   "metadata": {},
   "outputs": [],
   "source": []
  },
  {
   "cell_type": "code",
   "execution_count": null,
   "metadata": {},
   "outputs": [],
   "source": []
  },
  {
   "cell_type": "code",
   "execution_count": null,
   "metadata": {},
   "outputs": [],
   "source": []
  }
 ],
 "metadata": {
  "kernelspec": {
   "display_name": "Python 3 (ipykernel)",
   "language": "python",
   "name": "python3"
  },
  "language_info": {
   "codemirror_mode": {
    "name": "ipython",
    "version": 3
   },
   "file_extension": ".py",
   "mimetype": "text/x-python",
   "name": "python",
   "nbconvert_exporter": "python",
   "pygments_lexer": "ipython3",
   "version": "3.9.21"
  }
 },
 "nbformat": 4,
 "nbformat_minor": 4
}
